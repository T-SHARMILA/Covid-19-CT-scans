{
 "cells": [
  {
   "cell_type": "code",
   "execution_count": 186,
   "metadata": {},
   "outputs": [],
   "source": [
    "\n",
    "# import the necessary packages\n",
    "from tensorflow.keras.preprocessing.image import ImageDataGenerator\n",
    "from tensorflow.keras.applications import VGG16\n",
    "from tensorflow.keras.layers import AveragePooling2D\n",
    "from tensorflow.keras.layers import Dropout\n",
    "from tensorflow.keras.layers import Flatten\n",
    "from tensorflow.keras.layers import Dense\n",
    "from tensorflow.keras.layers import Input\n",
    "from tensorflow.keras.models import Model\n",
    "from tensorflow.keras.optimizers import Adam\n",
    "from tensorflow.keras.utils import to_categorical\n",
    "from sklearn.preprocessing import LabelBinarizer\n",
    "from sklearn.model_selection import train_test_split\n",
    "from sklearn.metrics import classification_report\n",
    "from sklearn.metrics import confusion_matrix\n",
    "from imutils import paths\n",
    "import matplotlib.pyplot as plt\n",
    "import numpy as np\n",
    "import argparse\n",
    "import cv2"
   ]
  },
  {
   "cell_type": "code",
   "execution_count": 187,
   "metadata": {},
   "outputs": [],
   "source": [
    "ap = argparse.ArgumentParser()"
   ]
  },
  {
   "cell_type": "code",
   "execution_count": 188,
   "metadata": {},
   "outputs": [
    {
     "data": {
      "text/plain": [
       "_StoreAction(option_strings=['-d', '--dataset'], dest='dataset', nargs=None, const=None, default=None, type=None, choices=None, help='path to input dataset', metavar=None)"
      ]
     },
     "execution_count": 188,
     "metadata": {},
     "output_type": "execute_result"
    }
   ],
   "source": [
    "ap.add_argument(\"-d\", \"--dataset\", required=True,help=\"path to input dataset\")"
   ]
  },
  {
   "cell_type": "code",
   "execution_count": 189,
   "metadata": {},
   "outputs": [],
   "source": [
    "args = vars(ap.parse_args(\"--dataset /ebsvol/aiceclassifier=tf.keras.models.load_model(model_path)lerateData/internuser/Sharmila/dataset\".split()))"
   ]
  },
  {
   "cell_type": "markdown",
   "metadata": {},
   "source": [
    "# TRAINING"
   ]
  },
  {
   "cell_type": "code",
   "execution_count": 196,
   "metadata": {},
   "outputs": [],
   "source": [
    "# initialize the initial learning rate, number of epochs to train for,\n",
    "# and batch size\n",
    "INIT_LR = 1e-3\n",
    "EPOCHS = 25\n",
    "BS = 8"
   ]
  },
  {
   "cell_type": "code",
   "execution_count": 197,
   "metadata": {},
   "outputs": [
    {
     "name": "stdout",
     "output_type": "stream",
     "text": [
      "[INFO] loading images...\n"
     ]
    }
   ],
   "source": [
    "# grab the list of images in our dataset directory, then initialize\n",
    "# the list of data (i.e., images) and class images\n",
    "print(\"[INFO] loading images...\")\n",
    "imagePaths = list(paths.list_images(args[\"dataset\"]))\n",
    "data = []\n",
    "labels = []"
   ]
  },
  {
   "cell_type": "code",
   "execution_count": 198,
   "metadata": {},
   "outputs": [],
   "source": [
    "# loop over the image paths\n",
    "for imagePath in imagePaths:\n",
    "# extract the class label from the filename\n",
    "    label = imagePath.split(os.path.sep)[-2]\n",
    "\n",
    "# load the image, swap color channels, and resize it to be a fixed\n",
    "# 224x224 pixels while ignoring aspect ratio\n",
    "    image = cv2.imread(imagePath)\n",
    "    image = cv2.cvtColor(image, cv2.COLOR_BGR2RGB)\n",
    "    image = cv2.resize(image, (224, 224))\n",
    "\n",
    "# update the data and labels lists, respectively\n",
    "    data.append(image)\n",
    "    labels.append(label)"
   ]
  },
  {
   "cell_type": "code",
   "execution_count": 199,
   "metadata": {},
   "outputs": [],
   "source": [
    "# convert the data and labels to NumPy arrays while scaling the pixel\n",
    "# intensities to the range [0, 255]\n",
    "data = np.array(data) / 255.0\n",
    "labels = np.array(labels)\n"
   ]
  },
  {
   "cell_type": "code",
   "execution_count": 201,
   "metadata": {},
   "outputs": [],
   "source": [
    "# perform encoding on the labels\n",
    "lb = LabelBinarizer()\n",
    "labels = lb.fit_transform(labels)\n",
    "labels = to_categorical(labels)"
   ]
  },
  {
   "cell_type": "code",
   "execution_count": 202,
   "metadata": {},
   "outputs": [],
   "source": [
    "# partition the data into training and testing splits using 80% of\n",
    "# the data for training and the remaining 20% for testing\n",
    "(trainX, testX, trainY, testY) = train_test_split(data, labels,test_size=0.20, stratify=labels, random_state=42)\n"
   ]
  },
  {
   "cell_type": "code",
   "execution_count": 203,
   "metadata": {},
   "outputs": [],
   "source": [
    "# initialize the training data augmentation object\n",
    "trainAug = ImageDataGenerator(\n",
    "    rotation_range=15,\n",
    "    fill_mode=\"nearest\")\n"
   ]
  },
  {
   "cell_type": "code",
   "execution_count": 205,
   "metadata": {},
   "outputs": [],
   "source": [
    "# load the VGG16 network, ensuring the head FC layer sets are left\n",
    "# off\n",
    "baseModel = VGG16(weights=\"imagenet\", include_top=False,\n",
    "    input_tensor=Input(shape=(224, 224, 3)))"
   ]
  },
  {
   "cell_type": "code",
   "execution_count": 206,
   "metadata": {},
   "outputs": [],
   "source": [
    "# construct the head of the model that will be placed on top of the\n",
    "# the base model\n",
    "headModel = baseModel.output\n",
    "headModel = AveragePooling2D(pool_size=(4, 4))(headModel)\n",
    "headModel = Flatten(name=\"flatten\")(headModel)\n",
    "headModel = Dense(64, activation=\"relu\")(headModel)\n",
    "headModel = Dropout(0.5)(headModel)\n",
    "headModel = Dense(2, activation=\"softmax\")(headModel)"
   ]
  },
  {
   "cell_type": "code",
   "execution_count": 207,
   "metadata": {},
   "outputs": [],
   "source": [
    "# place the head FC model on top of the base model (this will become\n",
    "# the actual model we will train)\n",
    "model = Model(inputs=baseModel.input, outputs=headModel)"
   ]
  },
  {
   "cell_type": "code",
   "execution_count": 208,
   "metadata": {},
   "outputs": [],
   "source": [
    "# loop over all layers in the base model and freeze them so they will\n",
    "# *not* be updated during the first training process\n",
    "for layer in baseModel.layers:\n",
    "    layer.trainable = False"
   ]
  },
  {
   "cell_type": "code",
   "execution_count": 209,
   "metadata": {},
   "outputs": [
    {
     "name": "stdout",
     "output_type": "stream",
     "text": [
      "[INFO] compiling model...\n"
     ]
    }
   ],
   "source": [
    "# compile our model\n",
    "print(\"[INFO] compiling model...\")\n",
    "opt = Adam(lr=INIT_LR, decay=INIT_LR / EPOCHS)\n",
    "model.compile(loss=\"binary_crossentropy\", optimizer=opt,metrics=[\"accuracy\"])"
   ]
  },
  {
   "cell_type": "code",
   "execution_count": 210,
   "metadata": {},
   "outputs": [
    {
     "name": "stdout",
     "output_type": "stream",
     "text": [
      "[INFO] training head...\n",
      "Epoch 1/25\n",
      "WARNING:tensorflow:From /ebsvol/aicelerateEnv/lib/python3.6/site-packages/tensorflow/python/ops/math_grad.py:1250: add_dispatch_support.<locals>.wrapper (from tensorflow.python.ops.array_ops) is deprecated and will be removed in a future version.\n",
      "Instructions for updating:\n",
      "Use tf.where in 2.0, which has the same broadcast rule as np.where\n",
      "74/74 [==============================] - 216s 3s/step - loss: 0.7240 - acc: 0.5527 - val_loss: 0.6538 - val_acc: 0.6400\n",
      "Epoch 2/25\n",
      "74/74 [==============================] - 215s 3s/step - loss: 0.6391 - acc: 0.6378 - val_loss: 0.6633 - val_acc: 0.6000\n",
      "Epoch 3/25\n",
      "74/74 [==============================] - 216s 3s/step - loss: 0.6025 - acc: 0.6892 - val_loss: 0.6120 - val_acc: 0.6267\n",
      "Epoch 4/25\n",
      "74/74 [==============================] - 214s 3s/step - loss: 0.5766 - acc: 0.7038 - val_loss: 0.6049 - val_acc: 0.6733\n",
      "Epoch 5/25\n",
      "74/74 [==============================] - 215s 3s/step - loss: 0.5740 - acc: 0.7058 - val_loss: 0.5912 - val_acc: 0.6867\n",
      "Epoch 6/25\n",
      "74/74 [==============================] - 214s 3s/step - loss: 0.5648 - acc: 0.6973 - val_loss: 0.6089 - val_acc: 0.6733\n",
      "Epoch 7/25\n",
      "74/74 [==============================] - 215s 3s/step - loss: 0.5503 - acc: 0.7058 - val_loss: 0.6333 - val_acc: 0.6600\n",
      "Epoch 8/25\n",
      "74/74 [==============================] - 215s 3s/step - loss: 0.5248 - acc: 0.7330 - val_loss: 0.6283 - val_acc: 0.6667\n",
      "Epoch 9/25\n",
      "74/74 [==============================] - 215s 3s/step - loss: 0.5119 - acc: 0.7483 - val_loss: 0.5972 - val_acc: 0.6733\n",
      "Epoch 10/25\n",
      "74/74 [==============================] - 216s 3s/step - loss: 0.5171 - acc: 0.7398 - val_loss: 0.5737 - val_acc: 0.7067\n",
      "Epoch 11/25\n",
      "74/74 [==============================] - 215s 3s/step - loss: 0.4906 - acc: 0.7687 - val_loss: 0.5695 - val_acc: 0.7200\n",
      "Epoch 12/25\n",
      "74/74 [==============================] - 215s 3s/step - loss: 0.5043 - acc: 0.7534 - val_loss: 0.5668 - val_acc: 0.7067\n",
      "Epoch 13/25\n",
      "74/74 [==============================] - 215s 3s/step - loss: 0.4830 - acc: 0.7517 - val_loss: 0.5802 - val_acc: 0.6800\n",
      "Epoch 14/25\n",
      "74/74 [==============================] - 214s 3s/step - loss: 0.4603 - acc: 0.7993 - val_loss: 0.5620 - val_acc: 0.7267\n",
      "Epoch 15/25\n",
      "74/74 [==============================] - 215s 3s/step - loss: 0.4640 - acc: 0.7925 - val_loss: 0.5772 - val_acc: 0.7000\n",
      "Epoch 16/25\n",
      "74/74 [==============================] - 214s 3s/step - loss: 0.4420 - acc: 0.7891 - val_loss: 0.5600 - val_acc: 0.7400\n",
      "Epoch 17/25\n",
      "74/74 [==============================] - 214s 3s/step - loss: 0.4391 - acc: 0.7959 - val_loss: 0.6967 - val_acc: 0.6533\n",
      "Epoch 18/25\n",
      "74/74 [==============================] - 214s 3s/step - loss: 0.4562 - acc: 0.8024 - val_loss: 0.5951 - val_acc: 0.6933\n",
      "Epoch 19/25\n",
      "74/74 [==============================] - 213s 3s/step - loss: 0.4397 - acc: 0.8078 - val_loss: 0.5618 - val_acc: 0.7333\n",
      "Epoch 20/25\n",
      "74/74 [==============================] - 213s 3s/step - loss: 0.4195 - acc: 0.8146 - val_loss: 0.5649 - val_acc: 0.7533\n",
      "Epoch 21/25\n",
      "74/74 [==============================] - 214s 3s/step - loss: 0.4266 - acc: 0.7959 - val_loss: 0.5680 - val_acc: 0.7333\n",
      "Epoch 22/25\n",
      "74/74 [==============================] - 212s 3s/step - loss: 0.4165 - acc: 0.8163 - val_loss: 0.5358 - val_acc: 0.7333\n",
      "Epoch 23/25\n",
      "74/74 [==============================] - 211s 3s/step - loss: 0.3957 - acc: 0.8185 - val_loss: 0.5554 - val_acc: 0.7200\n",
      "Epoch 24/25\n",
      "74/74 [==============================] - 213s 3s/step - loss: 0.4267 - acc: 0.8061 - val_loss: 0.5329 - val_acc: 0.7400\n",
      "Epoch 25/25\n",
      "74/74 [==============================] - 214s 3s/step - loss: 0.3660 - acc: 0.8547 - val_loss: 0.5233 - val_acc: 0.7467\n"
     ]
    }
   ],
   "source": [
    "# train the head of the network\n",
    "print(\"[INFO] training head...\")\n",
    "H = model.fit_generator(\n",
    "    trainAug.flow(trainX, trainY, batch_size=BS),\n",
    "    steps_per_epoch=len(trainX) // BS,\n",
    "    validation_data=(testX, testY),\n",
    "    validation_steps=len(testX) // BS,\n",
    "    epochs=EPOCHS)"
   ]
  },
  {
   "cell_type": "code",
   "execution_count": 211,
   "metadata": {},
   "outputs": [],
   "source": [
    "model.save('simpletrain.h5')"
   ]
  },
  {
   "cell_type": "code",
   "execution_count": 212,
   "metadata": {},
   "outputs": [
    {
     "name": "stdout",
     "output_type": "stream",
     "text": [
      "[INFO] evaluating network...\n",
      "              precision    recall  f1-score   support\n",
      "\n",
      "    CT_COVID       0.74      0.70      0.72        70\n",
      " CT_NonCOVID       0.75      0.79      0.77        80\n",
      "\n",
      "    accuracy                           0.75       150\n",
      "   macro avg       0.75      0.74      0.74       150\n",
      "weighted avg       0.75      0.75      0.75       150\n",
      "\n"
     ]
    }
   ],
   "source": [
    "# make predictions on the testing set\n",
    "print(\"[INFO] evaluating network...\")\n",
    "predIdxs = model.predict(testX, batch_size=BS)\n",
    "\n",
    "# for each image in the testing set we need to find the index of the\n",
    "# label with corresponding largest predicted probability\n",
    "predIdxs = np.argmax(predIdxs, axis=1)\n",
    "\n",
    "# show a nicely formatted classification report\n",
    "print(classification_report(testY.argmax(axis=1), predIdxs,target_names=lb.classes_))"
   ]
  },
  {
   "cell_type": "code",
   "execution_count": 213,
   "metadata": {},
   "outputs": [
    {
     "name": "stdout",
     "output_type": "stream",
     "text": [
      "[[49 21]\n",
      " [17 63]]\n",
      "acc: 0.7467\n",
      "sensitivity: 0.7000\n",
      "specificity: 0.7875\n"
     ]
    }
   ],
   "source": [
    "# compute the confusion matrix and and use it to derive the raw\n",
    "# accuracy, sensitivity, and specificity\n",
    "cm = confusion_matrix(testY.argmax(axis=1), predIdxs)\n",
    "total = sum(sum(cm))\n",
    "acc = (cm[0, 0] + cm[1, 1]) / total\n",
    "sensitivity = cm[0, 0] / (cm[0, 0] + cm[0, 1])\n",
    "specificity = cm[1, 1] / (cm[1, 0] + cm[1, 1])\n",
    "# show the confusion matrix, accuracy, sensitivity, and specificity\n",
    "print(cm)\n",
    "print(\"acc: {:.4f}\".format(acc))\n",
    "print(\"sensitivity: {:.4f}\".format(sensitivity))\n",
    "print(\"specificity: {:.4f}\".format(specificity))"
   ]
  },
  {
   "cell_type": "code",
   "execution_count": 214,
   "metadata": {},
   "outputs": [
    {
     "data": {
      "text/plain": [
       "<matplotlib.legend.Legend at 0x7f9b3f8a1978>"
      ]
     },
     "execution_count": 214,
     "metadata": {},
     "output_type": "execute_result"
    },
    {
     "data": {
      "image/png": "[encoded data removed]",
      "text/plain": [
       "<Figure size 432x288 with 1 Axes>"
      ]
     },
     "metadata": {},
     "output_type": "display_data"
    }
   ],
   "source": [
    "# plot the training loss and accuracy\n",
    "N = EPOCHS\n",
    "plt.style.use(\"ggplot\")\n",
    "plt.figure()\n",
    "plt.plot(np.arange(0, N), H.history[\"loss\"], label=\"train_loss\")\n",
    "plt.plot(np.arange(0, N), H.history[\"val_loss\"], label=\"val_loss\")\n",
    "plt.plot(np.arange(0, N), H.history[\"acc\"], label=\"train_acc\")\n",
    "plt.plot(np.arange(0, N), H.history[\"val_acc\"], label=\"val_acc\")\n",
    "plt.title(\"Training Loss and Accuracy on COVID-19 Dataset\")\n",
    "plt.xlabel(\"Epoch #\")\n",
    "plt.ylabel(\"Loss/Accuracy\")\n",
    "plt.legend(loc=\"lower left\")"
   ]
  },
  {
   "cell_type": "code",
   "execution_count": null,
   "metadata": {},
   "outputs": [],
   "source": []
  }
 ],
 "metadata": {
  "kernelspec": {
   "display_name": "Python 3",
   "language": "python",
   "name": "python3"
  },
  "language_info": {
   "codemirror_mode": {
    "name": "ipython",
    "version": 3
   },
   "file_extension": ".py",
   "mimetype": "text/x-python",
   "name": "python",
   "nbconvert_exporter": "python",
   "pygments_lexer": "ipython3",
   "version": "3.7.3"
  }
 },
 "nbformat": 4,
 "nbformat_minor": 2
}
